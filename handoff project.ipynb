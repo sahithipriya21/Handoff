{
 "cells": [
  {
   "cell_type": "code",
   "execution_count": null,
   "metadata": {
    "id": "G3cmZH86BZYz"
   },
   "outputs": [],
   "source": [
    "import pandas as pd #\n",
    "import numpy as np  #\n",
    "import pydotplus\n",
    "import seaborn as sns #\n",
    "import sklearn\n",
    "import matplotlib.pyplot as plt \n",
    "import matplotlib.image as pltimg\n",
    "from sklearn.tree import DecisionTreeClassifier\n",
    "from sklearn import tree\n",
    "from sklearn.ensemble import RandomForestClassifier\n",
    "from sklearn.linear_model import LogisticRegression#\n",
    "\n",
    "from sklearn.model_selection import train_test_split #\n",
    "\n",
    "from sklearn import metrics  #"
   ]
  },
  {
   "cell_type": "code",
   "execution_count": null,
   "metadata": {
    "id": "492FPsIIBwc4"
   },
   "outputs": [],
   "source": [
    "df=pd.read_csv('finaldata.csv')"
   ]
  },
  {
   "cell_type": "code",
   "execution_count": null,
   "metadata": {
    "colab": {
     "base_uri": "https://localhost:8080/"
    },
    "executionInfo": {
     "elapsed": 3427,
     "status": "ok",
     "timestamp": 1645895687275,
     "user": {
      "displayName": "Sai Krishna",
      "photoUrl": "https://lh3.googleusercontent.com/a-/AOh14GivFmCGXlNp-q96gH550stXEydDnw2l5i_Xk5Q4Fl4=s64",
      "userId": "11044711928915092420"
     },
     "user_tz": -330
    },
    "id": "DEIxSl_o5e_I",
    "outputId": "b9343fb2-d419-44bb-e280-d0d6912edf4b"
   },
   "outputs": [
    {
     "name": "stdout",
     "output_type": "stream",
     "text": [
      "Requirement already satisfied: pydotplus in /usr/local/lib/python3.7/dist-packages (2.0.2)\n",
      "Requirement already satisfied: pyparsing>=2.0.1 in /usr/local/lib/python3.7/dist-packages (from pydotplus) (3.0.7)\n"
     ]
    }
   ],
   "source": [
    "!pip install pydotplus"
   ]
  },
  {
   "cell_type": "code",
   "execution_count": null,
   "metadata": {
    "colab": {
     "base_uri": "https://localhost:8080/",
     "height": 363
    },
    "executionInfo": {
     "elapsed": 11,
     "status": "ok",
     "timestamp": 1645895687276,
     "user": {
      "displayName": "Sai Krishna",
      "photoUrl": "https://lh3.googleusercontent.com/a-/AOh14GivFmCGXlNp-q96gH550stXEydDnw2l5i_Xk5Q4Fl4=s64",
      "userId": "11044711928915092420"
     },
     "user_tz": -330
    },
    "id": "u5oMqDaPBxJQ",
    "outputId": "d34fe1c9-e287-4b7d-82f8-fbc2aa370f62"
   },
   "outputs": [
    {
     "data": {
      "text/html": [
       "\n",
       "  <div id=\"df-561cc39d-971f-4260-a37d-bc07e426cd65\">\n",
       "    <div class=\"colab-df-container\">\n",
       "      <div>\n",
       "<style scoped>\n",
       "    .dataframe tbody tr th:only-of-type {\n",
       "        vertical-align: middle;\n",
       "    }\n",
       "\n",
       "    .dataframe tbody tr th {\n",
       "        vertical-align: top;\n",
       "    }\n",
       "\n",
       "    .dataframe thead th {\n",
       "        text-align: right;\n",
       "    }\n",
       "</style>\n",
       "<table border=\"1\" class=\"dataframe\">\n",
       "  <thead>\n",
       "    <tr style=\"text-align: right;\">\n",
       "      <th></th>\n",
       "      <th>RSS</th>\n",
       "      <th>BW</th>\n",
       "      <th>NWCOV</th>\n",
       "      <th>Powe cins</th>\n",
       "      <th>SNR</th>\n",
       "      <th>Handoff</th>\n",
       "    </tr>\n",
       "  </thead>\n",
       "  <tbody>\n",
       "    <tr>\n",
       "      <th>0</th>\n",
       "      <td>-83</td>\n",
       "      <td>1166</td>\n",
       "      <td>8</td>\n",
       "      <td>0.65</td>\n",
       "      <td>28</td>\n",
       "      <td>0</td>\n",
       "    </tr>\n",
       "    <tr>\n",
       "      <th>1</th>\n",
       "      <td>-37</td>\n",
       "      <td>1559</td>\n",
       "      <td>57</td>\n",
       "      <td>1.20</td>\n",
       "      <td>45</td>\n",
       "      <td>1</td>\n",
       "    </tr>\n",
       "    <tr>\n",
       "      <th>2</th>\n",
       "      <td>-52</td>\n",
       "      <td>1616</td>\n",
       "      <td>26</td>\n",
       "      <td>0.24</td>\n",
       "      <td>40</td>\n",
       "      <td>1</td>\n",
       "    </tr>\n",
       "    <tr>\n",
       "      <th>3</th>\n",
       "      <td>-97</td>\n",
       "      <td>1830</td>\n",
       "      <td>49</td>\n",
       "      <td>1.10</td>\n",
       "      <td>44</td>\n",
       "      <td>1</td>\n",
       "    </tr>\n",
       "    <tr>\n",
       "      <th>4</th>\n",
       "      <td>-100</td>\n",
       "      <td>1426</td>\n",
       "      <td>57</td>\n",
       "      <td>0.68</td>\n",
       "      <td>48</td>\n",
       "      <td>1</td>\n",
       "    </tr>\n",
       "    <tr>\n",
       "      <th>5</th>\n",
       "      <td>-71</td>\n",
       "      <td>1211</td>\n",
       "      <td>13</td>\n",
       "      <td>0.81</td>\n",
       "      <td>25</td>\n",
       "      <td>0</td>\n",
       "    </tr>\n",
       "    <tr>\n",
       "      <th>6</th>\n",
       "      <td>-98</td>\n",
       "      <td>53</td>\n",
       "      <td>69</td>\n",
       "      <td>0.02</td>\n",
       "      <td>37</td>\n",
       "      <td>0</td>\n",
       "    </tr>\n",
       "    <tr>\n",
       "      <th>7</th>\n",
       "      <td>-73</td>\n",
       "      <td>1985</td>\n",
       "      <td>54</td>\n",
       "      <td>1.85</td>\n",
       "      <td>25</td>\n",
       "      <td>1</td>\n",
       "    </tr>\n",
       "    <tr>\n",
       "      <th>8</th>\n",
       "      <td>-33</td>\n",
       "      <td>455</td>\n",
       "      <td>56</td>\n",
       "      <td>1.26</td>\n",
       "      <td>42</td>\n",
       "      <td>1</td>\n",
       "    </tr>\n",
       "    <tr>\n",
       "      <th>9</th>\n",
       "      <td>-71</td>\n",
       "      <td>708</td>\n",
       "      <td>29</td>\n",
       "      <td>1.73</td>\n",
       "      <td>32</td>\n",
       "      <td>0</td>\n",
       "    </tr>\n",
       "  </tbody>\n",
       "</table>\n",
       "</div>\n",
       "      <button class=\"colab-df-convert\" onclick=\"convertToInteractive('df-561cc39d-971f-4260-a37d-bc07e426cd65')\"\n",
       "              title=\"Convert this dataframe to an interactive table.\"\n",
       "              style=\"display:none;\">\n",
       "        \n",
       "  <svg xmlns=\"http://www.w3.org/2000/svg\" height=\"24px\"viewBox=\"0 0 24 24\"\n",
       "       width=\"24px\">\n",
       "    <path d=\"M0 0h24v24H0V0z\" fill=\"none\"/>\n",
       "    <path d=\"M18.56 5.44l.94 2.06.94-2.06 2.06-.94-2.06-.94-.94-2.06-.94 2.06-2.06.94zm-11 1L8.5 8.5l.94-2.06 2.06-.94-2.06-.94L8.5 2.5l-.94 2.06-2.06.94zm10 10l.94 2.06.94-2.06 2.06-.94-2.06-.94-.94-2.06-.94 2.06-2.06.94z\"/><path d=\"M17.41 7.96l-1.37-1.37c-.4-.4-.92-.59-1.43-.59-.52 0-1.04.2-1.43.59L10.3 9.45l-7.72 7.72c-.78.78-.78 2.05 0 2.83L4 21.41c.39.39.9.59 1.41.59.51 0 1.02-.2 1.41-.59l7.78-7.78 2.81-2.81c.8-.78.8-2.07 0-2.86zM5.41 20L4 18.59l7.72-7.72 1.47 1.35L5.41 20z\"/>\n",
       "  </svg>\n",
       "      </button>\n",
       "      \n",
       "  <style>\n",
       "    .colab-df-container {\n",
       "      display:flex;\n",
       "      flex-wrap:wrap;\n",
       "      gap: 12px;\n",
       "    }\n",
       "\n",
       "    .colab-df-convert {\n",
       "      background-color: #E8F0FE;\n",
       "      border: none;\n",
       "      border-radius: 50%;\n",
       "      cursor: pointer;\n",
       "      display: none;\n",
       "      fill: #1967D2;\n",
       "      height: 32px;\n",
       "      padding: 0 0 0 0;\n",
       "      width: 32px;\n",
       "    }\n",
       "\n",
       "    .colab-df-convert:hover {\n",
       "      background-color: #E2EBFA;\n",
       "      box-shadow: 0px 1px 2px rgba(60, 64, 67, 0.3), 0px 1px 3px 1px rgba(60, 64, 67, 0.15);\n",
       "      fill: #174EA6;\n",
       "    }\n",
       "\n",
       "    [theme=dark] .colab-df-convert {\n",
       "      background-color: #3B4455;\n",
       "      fill: #D2E3FC;\n",
       "    }\n",
       "\n",
       "    [theme=dark] .colab-df-convert:hover {\n",
       "      background-color: #434B5C;\n",
       "      box-shadow: 0px 1px 3px 1px rgba(0, 0, 0, 0.15);\n",
       "      filter: drop-shadow(0px 1px 2px rgba(0, 0, 0, 0.3));\n",
       "      fill: #FFFFFF;\n",
       "    }\n",
       "  </style>\n",
       "\n",
       "      <script>\n",
       "        const buttonEl =\n",
       "          document.querySelector('#df-561cc39d-971f-4260-a37d-bc07e426cd65 button.colab-df-convert');\n",
       "        buttonEl.style.display =\n",
       "          google.colab.kernel.accessAllowed ? 'block' : 'none';\n",
       "\n",
       "        async function convertToInteractive(key) {\n",
       "          const element = document.querySelector('#df-561cc39d-971f-4260-a37d-bc07e426cd65');\n",
       "          const dataTable =\n",
       "            await google.colab.kernel.invokeFunction('convertToInteractive',\n",
       "                                                     [key], {});\n",
       "          if (!dataTable) return;\n",
       "\n",
       "          const docLinkHtml = 'Like what you see? Visit the ' +\n",
       "            '<a target=\"_blank\" href=https://colab.research.google.com/notebooks/data_table.ipynb>data table notebook</a>'\n",
       "            + ' to learn more about interactive tables.';\n",
       "          element.innerHTML = '';\n",
       "          dataTable['output_type'] = 'display_data';\n",
       "          await google.colab.output.renderOutput(dataTable, element);\n",
       "          const docLink = document.createElement('div');\n",
       "          docLink.innerHTML = docLinkHtml;\n",
       "          element.appendChild(docLink);\n",
       "        }\n",
       "      </script>\n",
       "    </div>\n",
       "  </div>\n",
       "  "
      ],
      "text/plain": [
       "   RSS    BW  NWCOV  Powe cins  SNR  Handoff\n",
       "0  -83  1166      8       0.65   28        0\n",
       "1  -37  1559     57       1.20   45        1\n",
       "2  -52  1616     26       0.24   40        1\n",
       "3  -97  1830     49       1.10   44        1\n",
       "4 -100  1426     57       0.68   48        1\n",
       "5  -71  1211     13       0.81   25        0\n",
       "6  -98    53     69       0.02   37        0\n",
       "7  -73  1985     54       1.85   25        1\n",
       "8  -33   455     56       1.26   42        1\n",
       "9  -71   708     29       1.73   32        0"
      ]
     },
     "execution_count": 100,
     "metadata": {},
     "output_type": "execute_result"
    }
   ],
   "source": [
    "df.head(10 )\n"
   ]
  },
  {
   "cell_type": "code",
   "execution_count": null,
   "metadata": {
    "colab": {
     "base_uri": "https://localhost:8080/",
     "height": 300
    },
    "executionInfo": {
     "elapsed": 10,
     "status": "ok",
     "timestamp": 1645895687276,
     "user": {
      "displayName": "Sai Krishna",
      "photoUrl": "https://lh3.googleusercontent.com/a-/AOh14GivFmCGXlNp-q96gH550stXEydDnw2l5i_Xk5Q4Fl4=s64",
      "userId": "11044711928915092420"
     },
     "user_tz": -330
    },
    "id": "MaWA5AuLBxMG",
    "outputId": "489f7cc5-2ac7-45f9-d383-5bf3bcaef536"
   },
   "outputs": [
    {
     "data": {
      "text/html": [
       "\n",
       "  <div id=\"df-001ba3e6-5dc5-4600-ada1-0e8749537a55\">\n",
       "    <div class=\"colab-df-container\">\n",
       "      <div>\n",
       "<style scoped>\n",
       "    .dataframe tbody tr th:only-of-type {\n",
       "        vertical-align: middle;\n",
       "    }\n",
       "\n",
       "    .dataframe tbody tr th {\n",
       "        vertical-align: top;\n",
       "    }\n",
       "\n",
       "    .dataframe thead th {\n",
       "        text-align: right;\n",
       "    }\n",
       "</style>\n",
       "<table border=\"1\" class=\"dataframe\">\n",
       "  <thead>\n",
       "    <tr style=\"text-align: right;\">\n",
       "      <th></th>\n",
       "      <th>RSS</th>\n",
       "      <th>BW</th>\n",
       "      <th>NWCOV</th>\n",
       "      <th>Powe cins</th>\n",
       "      <th>SNR</th>\n",
       "      <th>Handoff</th>\n",
       "    </tr>\n",
       "  </thead>\n",
       "  <tbody>\n",
       "    <tr>\n",
       "      <th>count</th>\n",
       "      <td>1000.000000</td>\n",
       "      <td>1000.000000</td>\n",
       "      <td>1000.000000</td>\n",
       "      <td>1000.000000</td>\n",
       "      <td>1000.00000</td>\n",
       "      <td>1000.000000</td>\n",
       "    </tr>\n",
       "    <tr>\n",
       "      <th>mean</th>\n",
       "      <td>-60.577000</td>\n",
       "      <td>1006.933000</td>\n",
       "      <td>35.416000</td>\n",
       "      <td>0.999020</td>\n",
       "      <td>37.58200</td>\n",
       "      <td>0.521000</td>\n",
       "    </tr>\n",
       "    <tr>\n",
       "      <th>std</th>\n",
       "      <td>23.105799</td>\n",
       "      <td>565.578121</td>\n",
       "      <td>20.712314</td>\n",
       "      <td>0.583147</td>\n",
       "      <td>7.42849</td>\n",
       "      <td>0.499809</td>\n",
       "    </tr>\n",
       "    <tr>\n",
       "      <th>min</th>\n",
       "      <td>-100.000000</td>\n",
       "      <td>16.000000</td>\n",
       "      <td>0.000000</td>\n",
       "      <td>0.000000</td>\n",
       "      <td>25.00000</td>\n",
       "      <td>0.000000</td>\n",
       "    </tr>\n",
       "    <tr>\n",
       "      <th>25%</th>\n",
       "      <td>-81.000000</td>\n",
       "      <td>542.750000</td>\n",
       "      <td>17.750000</td>\n",
       "      <td>0.480000</td>\n",
       "      <td>31.00000</td>\n",
       "      <td>0.000000</td>\n",
       "    </tr>\n",
       "    <tr>\n",
       "      <th>50%</th>\n",
       "      <td>-61.000000</td>\n",
       "      <td>1005.500000</td>\n",
       "      <td>35.000000</td>\n",
       "      <td>1.010000</td>\n",
       "      <td>38.00000</td>\n",
       "      <td>1.000000</td>\n",
       "    </tr>\n",
       "    <tr>\n",
       "      <th>75%</th>\n",
       "      <td>-41.750000</td>\n",
       "      <td>1514.250000</td>\n",
       "      <td>54.000000</td>\n",
       "      <td>1.500000</td>\n",
       "      <td>44.00000</td>\n",
       "      <td>1.000000</td>\n",
       "    </tr>\n",
       "    <tr>\n",
       "      <th>max</th>\n",
       "      <td>-20.000000</td>\n",
       "      <td>2000.000000</td>\n",
       "      <td>70.000000</td>\n",
       "      <td>2.000000</td>\n",
       "      <td>50.00000</td>\n",
       "      <td>1.000000</td>\n",
       "    </tr>\n",
       "  </tbody>\n",
       "</table>\n",
       "</div>\n",
       "      <button class=\"colab-df-convert\" onclick=\"convertToInteractive('df-001ba3e6-5dc5-4600-ada1-0e8749537a55')\"\n",
       "              title=\"Convert this dataframe to an interactive table.\"\n",
       "              style=\"display:none;\">\n",
       "        \n",
       "  <svg xmlns=\"http://www.w3.org/2000/svg\" height=\"24px\"viewBox=\"0 0 24 24\"\n",
       "       width=\"24px\">\n",
       "    <path d=\"M0 0h24v24H0V0z\" fill=\"none\"/>\n",
       "    <path d=\"M18.56 5.44l.94 2.06.94-2.06 2.06-.94-2.06-.94-.94-2.06-.94 2.06-2.06.94zm-11 1L8.5 8.5l.94-2.06 2.06-.94-2.06-.94L8.5 2.5l-.94 2.06-2.06.94zm10 10l.94 2.06.94-2.06 2.06-.94-2.06-.94-.94-2.06-.94 2.06-2.06.94z\"/><path d=\"M17.41 7.96l-1.37-1.37c-.4-.4-.92-.59-1.43-.59-.52 0-1.04.2-1.43.59L10.3 9.45l-7.72 7.72c-.78.78-.78 2.05 0 2.83L4 21.41c.39.39.9.59 1.41.59.51 0 1.02-.2 1.41-.59l7.78-7.78 2.81-2.81c.8-.78.8-2.07 0-2.86zM5.41 20L4 18.59l7.72-7.72 1.47 1.35L5.41 20z\"/>\n",
       "  </svg>\n",
       "      </button>\n",
       "      \n",
       "  <style>\n",
       "    .colab-df-container {\n",
       "      display:flex;\n",
       "      flex-wrap:wrap;\n",
       "      gap: 12px;\n",
       "    }\n",
       "\n",
       "    .colab-df-convert {\n",
       "      background-color: #E8F0FE;\n",
       "      border: none;\n",
       "      border-radius: 50%;\n",
       "      cursor: pointer;\n",
       "      display: none;\n",
       "      fill: #1967D2;\n",
       "      height: 32px;\n",
       "      padding: 0 0 0 0;\n",
       "      width: 32px;\n",
       "    }\n",
       "\n",
       "    .colab-df-convert:hover {\n",
       "      background-color: #E2EBFA;\n",
       "      box-shadow: 0px 1px 2px rgba(60, 64, 67, 0.3), 0px 1px 3px 1px rgba(60, 64, 67, 0.15);\n",
       "      fill: #174EA6;\n",
       "    }\n",
       "\n",
       "    [theme=dark] .colab-df-convert {\n",
       "      background-color: #3B4455;\n",
       "      fill: #D2E3FC;\n",
       "    }\n",
       "\n",
       "    [theme=dark] .colab-df-convert:hover {\n",
       "      background-color: #434B5C;\n",
       "      box-shadow: 0px 1px 3px 1px rgba(0, 0, 0, 0.15);\n",
       "      filter: drop-shadow(0px 1px 2px rgba(0, 0, 0, 0.3));\n",
       "      fill: #FFFFFF;\n",
       "    }\n",
       "  </style>\n",
       "\n",
       "      <script>\n",
       "        const buttonEl =\n",
       "          document.querySelector('#df-001ba3e6-5dc5-4600-ada1-0e8749537a55 button.colab-df-convert');\n",
       "        buttonEl.style.display =\n",
       "          google.colab.kernel.accessAllowed ? 'block' : 'none';\n",
       "\n",
       "        async function convertToInteractive(key) {\n",
       "          const element = document.querySelector('#df-001ba3e6-5dc5-4600-ada1-0e8749537a55');\n",
       "          const dataTable =\n",
       "            await google.colab.kernel.invokeFunction('convertToInteractive',\n",
       "                                                     [key], {});\n",
       "          if (!dataTable) return;\n",
       "\n",
       "          const docLinkHtml = 'Like what you see? Visit the ' +\n",
       "            '<a target=\"_blank\" href=https://colab.research.google.com/notebooks/data_table.ipynb>data table notebook</a>'\n",
       "            + ' to learn more about interactive tables.';\n",
       "          element.innerHTML = '';\n",
       "          dataTable['output_type'] = 'display_data';\n",
       "          await google.colab.output.renderOutput(dataTable, element);\n",
       "          const docLink = document.createElement('div');\n",
       "          docLink.innerHTML = docLinkHtml;\n",
       "          element.appendChild(docLink);\n",
       "        }\n",
       "      </script>\n",
       "    </div>\n",
       "  </div>\n",
       "  "
      ],
      "text/plain": [
       "               RSS           BW  ...         SNR      Handoff\n",
       "count  1000.000000  1000.000000  ...  1000.00000  1000.000000\n",
       "mean    -60.577000  1006.933000  ...    37.58200     0.521000\n",
       "std      23.105799   565.578121  ...     7.42849     0.499809\n",
       "min    -100.000000    16.000000  ...    25.00000     0.000000\n",
       "25%     -81.000000   542.750000  ...    31.00000     0.000000\n",
       "50%     -61.000000  1005.500000  ...    38.00000     1.000000\n",
       "75%     -41.750000  1514.250000  ...    44.00000     1.000000\n",
       "max     -20.000000  2000.000000  ...    50.00000     1.000000\n",
       "\n",
       "[8 rows x 6 columns]"
      ]
     },
     "execution_count": 101,
     "metadata": {},
     "output_type": "execute_result"
    }
   ],
   "source": [
    "df.describe()"
   ]
  },
  {
   "cell_type": "code",
   "execution_count": null,
   "metadata": {
    "id": "7OVrP8VvBxO7"
   },
   "outputs": [],
   "source": [
    "x1 = df[['RSS','BW','NWCOV','Powe cins','SNR']]\n",
    "features=['RSS','BW','NWCOV','Powe cins','SNR']\n",
    "y1 = df[['Handoff']]"
   ]
  },
  {
   "cell_type": "code",
   "execution_count": null,
   "metadata": {
    "colab": {
     "base_uri": "https://localhost:8080/",
     "height": 337
    },
    "executionInfo": {
     "elapsed": 1666,
     "status": "ok",
     "timestamp": 1645895688933,
     "user": {
      "displayName": "Sai Krishna",
      "photoUrl": "https://lh3.googleusercontent.com/a-/AOh14GivFmCGXlNp-q96gH550stXEydDnw2l5i_Xk5Q4Fl4=s64",
      "userId": "11044711928915092420"
     },
     "user_tz": -330
    },
    "id": "k1SXdvnVBxRT",
    "outputId": "65e4b157-0a53-410d-924d-94dd88926a50"
   },
   "outputs": [
    {
     "name": "stderr",
     "output_type": "stream",
     "text": [
      "/usr/local/lib/python3.7/dist-packages/seaborn/distributions.py:2619: FutureWarning: `distplot` is a deprecated function and will be removed in a future version. Please adapt your code to use either `displot` (a figure-level function with similar flexibility) or `histplot` (an axes-level function for histograms).\n",
      "  warnings.warn(msg, FutureWarning)\n"
     ]
    },
    {
     "data": {
      "text/plain": [
       "<matplotlib.axes._subplots.AxesSubplot at 0x7f04865dbdd0>"
      ]
     },
     "execution_count": 103,
     "metadata": {},
     "output_type": "execute_result"
    },
    {
     "data": {
      "image/png": "[encoded data removed]",
      "text/plain": [
       "<Figure size 432x288 with 1 Axes>"
      ]
     },
     "metadata": {
      "needs_background": "light"
     },
     "output_type": "display_data"
    }
   ],
   "source": [
    "sns.distplot(df[['SNR']]) "
   ]
  },
  {
   "cell_type": "code",
   "execution_count": null,
   "metadata": {
    "colab": {
     "base_uri": "https://localhost:8080/",
     "height": 286
    },
    "executionInfo": {
     "elapsed": 13,
     "status": "ok",
     "timestamp": 1645895688933,
     "user": {
      "displayName": "Sai Krishna",
      "photoUrl": "https://lh3.googleusercontent.com/a-/AOh14GivFmCGXlNp-q96gH550stXEydDnw2l5i_Xk5Q4Fl4=s64",
      "userId": "11044711928915092420"
     },
     "user_tz": -330
    },
    "id": "JgnWgnseBxT2",
    "outputId": "94e4ccb5-f0af-4e20-e372-6450bafd1193"
   },
   "outputs": [
    {
     "data": {
      "text/plain": [
       "<matplotlib.axes._subplots.AxesSubplot at 0x7f0485855f50>"
      ]
     },
     "execution_count": 104,
     "metadata": {},
     "output_type": "execute_result"
    },
    {
     "data": {
      "image/png": "[encoded data removed]",
      "text/plain": [
       "<Figure size 432x288 with 2 Axes>"
      ]
     },
     "metadata": {
      "needs_background": "light"
     },
     "output_type": "display_data"
    }
   ],
   "source": [
    "sns.heatmap(df.corr(),annot=True,cmap='coolwarm')"
   ]
  },
  {
   "cell_type": "code",
   "execution_count": null,
   "metadata": {
    "id": "SED71G9gBxWO"
   },
   "outputs": [],
   "source": [
    "x_train_log,x_test_log,y_train_log,y_test_log=train_test_split(x1,y1,test_size=0.4,random_state=42)\n",
    "x_train_tree,x_test_tree,y_train_tree,y_test_tree=train_test_split(x1,y1,test_size=0.4,random_state=101)\n",
    "x_train_forest,x_test_forest,y_train_forest,y_test_forest=train_test_split(x1,y1,test_size=0.4,random_state=42)\n",
    "\n",
    "\n"
   ]
  },
  {
   "cell_type": "code",
   "execution_count": null,
   "metadata": {
    "colab": {
     "base_uri": "https://localhost:8080/",
     "height": 423
    },
    "executionInfo": {
     "elapsed": 10,
     "status": "ok",
     "timestamp": 1645895688934,
     "user": {
      "displayName": "Sai Krishna",
      "photoUrl": "https://lh3.googleusercontent.com/a-/AOh14GivFmCGXlNp-q96gH550stXEydDnw2l5i_Xk5Q4Fl4=s64",
      "userId": "11044711928915092420"
     },
     "user_tz": -330
    },
    "id": "8ougx5g_b-pL",
    "outputId": "b958f116-aa78-496c-9e70-db300c9ad7c1"
   },
   "outputs": [
    {
     "data": {
      "text/html": [
       "\n",
       "  <div id=\"df-8bfa2fe7-ff42-4741-88fd-dc7c71062a34\">\n",
       "    <div class=\"colab-df-container\">\n",
       "      <div>\n",
       "<style scoped>\n",
       "    .dataframe tbody tr th:only-of-type {\n",
       "        vertical-align: middle;\n",
       "    }\n",
       "\n",
       "    .dataframe tbody tr th {\n",
       "        vertical-align: top;\n",
       "    }\n",
       "\n",
       "    .dataframe thead th {\n",
       "        text-align: right;\n",
       "    }\n",
       "</style>\n",
       "<table border=\"1\" class=\"dataframe\">\n",
       "  <thead>\n",
       "    <tr style=\"text-align: right;\">\n",
       "      <th></th>\n",
       "      <th>RSS</th>\n",
       "      <th>BW</th>\n",
       "      <th>NWCOV</th>\n",
       "      <th>Powe cins</th>\n",
       "      <th>SNR</th>\n",
       "    </tr>\n",
       "  </thead>\n",
       "  <tbody>\n",
       "    <tr>\n",
       "      <th>521</th>\n",
       "      <td>-96</td>\n",
       "      <td>96</td>\n",
       "      <td>24</td>\n",
       "      <td>1.66</td>\n",
       "      <td>36</td>\n",
       "    </tr>\n",
       "    <tr>\n",
       "      <th>737</th>\n",
       "      <td>-97</td>\n",
       "      <td>902</td>\n",
       "      <td>3</td>\n",
       "      <td>1.43</td>\n",
       "      <td>32</td>\n",
       "    </tr>\n",
       "    <tr>\n",
       "      <th>740</th>\n",
       "      <td>-27</td>\n",
       "      <td>174</td>\n",
       "      <td>66</td>\n",
       "      <td>1.38</td>\n",
       "      <td>33</td>\n",
       "    </tr>\n",
       "    <tr>\n",
       "      <th>660</th>\n",
       "      <td>-26</td>\n",
       "      <td>1209</td>\n",
       "      <td>23</td>\n",
       "      <td>0.82</td>\n",
       "      <td>41</td>\n",
       "    </tr>\n",
       "    <tr>\n",
       "      <th>411</th>\n",
       "      <td>-42</td>\n",
       "      <td>91</td>\n",
       "      <td>22</td>\n",
       "      <td>0.37</td>\n",
       "      <td>34</td>\n",
       "    </tr>\n",
       "    <tr>\n",
       "      <th>...</th>\n",
       "      <td>...</td>\n",
       "      <td>...</td>\n",
       "      <td>...</td>\n",
       "      <td>...</td>\n",
       "      <td>...</td>\n",
       "    </tr>\n",
       "    <tr>\n",
       "      <th>56</th>\n",
       "      <td>-51</td>\n",
       "      <td>607</td>\n",
       "      <td>64</td>\n",
       "      <td>1.27</td>\n",
       "      <td>25</td>\n",
       "    </tr>\n",
       "    <tr>\n",
       "      <th>405</th>\n",
       "      <td>-32</td>\n",
       "      <td>1685</td>\n",
       "      <td>43</td>\n",
       "      <td>0.62</td>\n",
       "      <td>28</td>\n",
       "    </tr>\n",
       "    <tr>\n",
       "      <th>442</th>\n",
       "      <td>-42</td>\n",
       "      <td>403</td>\n",
       "      <td>7</td>\n",
       "      <td>0.92</td>\n",
       "      <td>39</td>\n",
       "    </tr>\n",
       "    <tr>\n",
       "      <th>757</th>\n",
       "      <td>-45</td>\n",
       "      <td>973</td>\n",
       "      <td>22</td>\n",
       "      <td>0.55</td>\n",
       "      <td>43</td>\n",
       "    </tr>\n",
       "    <tr>\n",
       "      <th>997</th>\n",
       "      <td>-42</td>\n",
       "      <td>1108</td>\n",
       "      <td>10</td>\n",
       "      <td>1.04</td>\n",
       "      <td>48</td>\n",
       "    </tr>\n",
       "  </tbody>\n",
       "</table>\n",
       "<p>400 rows × 5 columns</p>\n",
       "</div>\n",
       "      <button class=\"colab-df-convert\" onclick=\"convertToInteractive('df-8bfa2fe7-ff42-4741-88fd-dc7c71062a34')\"\n",
       "              title=\"Convert this dataframe to an interactive table.\"\n",
       "              style=\"display:none;\">\n",
       "        \n",
       "  <svg xmlns=\"http://www.w3.org/2000/svg\" height=\"24px\"viewBox=\"0 0 24 24\"\n",
       "       width=\"24px\">\n",
       "    <path d=\"M0 0h24v24H0V0z\" fill=\"none\"/>\n",
       "    <path d=\"M18.56 5.44l.94 2.06.94-2.06 2.06-.94-2.06-.94-.94-2.06-.94 2.06-2.06.94zm-11 1L8.5 8.5l.94-2.06 2.06-.94-2.06-.94L8.5 2.5l-.94 2.06-2.06.94zm10 10l.94 2.06.94-2.06 2.06-.94-2.06-.94-.94-2.06-.94 2.06-2.06.94z\"/><path d=\"M17.41 7.96l-1.37-1.37c-.4-.4-.92-.59-1.43-.59-.52 0-1.04.2-1.43.59L10.3 9.45l-7.72 7.72c-.78.78-.78 2.05 0 2.83L4 21.41c.39.39.9.59 1.41.59.51 0 1.02-.2 1.41-.59l7.78-7.78 2.81-2.81c.8-.78.8-2.07 0-2.86zM5.41 20L4 18.59l7.72-7.72 1.47 1.35L5.41 20z\"/>\n",
       "  </svg>\n",
       "      </button>\n",
       "      \n",
       "  <style>\n",
       "    .colab-df-container {\n",
       "      display:flex;\n",
       "      flex-wrap:wrap;\n",
       "      gap: 12px;\n",
       "    }\n",
       "\n",
       "    .colab-df-convert {\n",
       "      background-color: #E8F0FE;\n",
       "      border: none;\n",
       "      border-radius: 50%;\n",
       "      cursor: pointer;\n",
       "      display: none;\n",
       "      fill: #1967D2;\n",
       "      height: 32px;\n",
       "      padding: 0 0 0 0;\n",
       "      width: 32px;\n",
       "    }\n",
       "\n",
       "    .colab-df-convert:hover {\n",
       "      background-color: #E2EBFA;\n",
       "      box-shadow: 0px 1px 2px rgba(60, 64, 67, 0.3), 0px 1px 3px 1px rgba(60, 64, 67, 0.15);\n",
       "      fill: #174EA6;\n",
       "    }\n",
       "\n",
       "    [theme=dark] .colab-df-convert {\n",
       "      background-color: #3B4455;\n",
       "      fill: #D2E3FC;\n",
       "    }\n",
       "\n",
       "    [theme=dark] .colab-df-convert:hover {\n",
       "      background-color: #434B5C;\n",
       "      box-shadow: 0px 1px 3px 1px rgba(0, 0, 0, 0.15);\n",
       "      filter: drop-shadow(0px 1px 2px rgba(0, 0, 0, 0.3));\n",
       "      fill: #FFFFFF;\n",
       "    }\n",
       "  </style>\n",
       "\n",
       "      <script>\n",
       "        const buttonEl =\n",
       "          document.querySelector('#df-8bfa2fe7-ff42-4741-88fd-dc7c71062a34 button.colab-df-convert');\n",
       "        buttonEl.style.display =\n",
       "          google.colab.kernel.accessAllowed ? 'block' : 'none';\n",
       "\n",
       "        async function convertToInteractive(key) {\n",
       "          const element = document.querySelector('#df-8bfa2fe7-ff42-4741-88fd-dc7c71062a34');\n",
       "          const dataTable =\n",
       "            await google.colab.kernel.invokeFunction('convertToInteractive',\n",
       "                                                     [key], {});\n",
       "          if (!dataTable) return;\n",
       "\n",
       "          const docLinkHtml = 'Like what you see? Visit the ' +\n",
       "            '<a target=\"_blank\" href=https://colab.research.google.com/notebooks/data_table.ipynb>data table notebook</a>'\n",
       "            + ' to learn more about interactive tables.';\n",
       "          element.innerHTML = '';\n",
       "          dataTable['output_type'] = 'display_data';\n",
       "          await google.colab.output.renderOutput(dataTable, element);\n",
       "          const docLink = document.createElement('div');\n",
       "          docLink.innerHTML = docLinkHtml;\n",
       "          element.appendChild(docLink);\n",
       "        }\n",
       "      </script>\n",
       "    </div>\n",
       "  </div>\n",
       "  "
      ],
      "text/plain": [
       "     RSS    BW  NWCOV  Powe cins  SNR\n",
       "521  -96    96     24       1.66   36\n",
       "737  -97   902      3       1.43   32\n",
       "740  -27   174     66       1.38   33\n",
       "660  -26  1209     23       0.82   41\n",
       "411  -42    91     22       0.37   34\n",
       "..   ...   ...    ...        ...  ...\n",
       "56   -51   607     64       1.27   25\n",
       "405  -32  1685     43       0.62   28\n",
       "442  -42   403      7       0.92   39\n",
       "757  -45   973     22       0.55   43\n",
       "997  -42  1108     10       1.04   48\n",
       "\n",
       "[400 rows x 5 columns]"
      ]
     },
     "execution_count": 106,
     "metadata": {},
     "output_type": "execute_result"
    }
   ],
   "source": [
    "x_test_log"
   ]
  },
  {
   "cell_type": "code",
   "execution_count": null,
   "metadata": {
    "colab": {
     "base_uri": "https://localhost:8080/"
    },
    "executionInfo": {
     "elapsed": 10,
     "status": "ok",
     "timestamp": 1645895688935,
     "user": {
      "displayName": "Sai Krishna",
      "photoUrl": "https://lh3.googleusercontent.com/a-/AOh14GivFmCGXlNp-q96gH550stXEydDnw2l5i_Xk5Q4Fl4=s64",
      "userId": "11044711928915092420"
     },
     "user_tz": -330
    },
    "id": "YnWZvphXEomN",
    "outputId": "bfeac4e5-4bdd-4651-8cf4-9e71c910694a"
   },
   "outputs": [
    {
     "name": "stderr",
     "output_type": "stream",
     "text": [
      "/usr/local/lib/python3.7/dist-packages/sklearn/utils/validation.py:993: DataConversionWarning: A column-vector y was passed when a 1d array was expected. Please change the shape of y to (n_samples, ), for example using ravel().\n",
      "  y = column_or_1d(y, warn=True)\n"
     ]
    }
   ],
   "source": [
    "clf = LogisticRegression(random_state=0).fit(x_train_log, y_train_log)\n",
    "predictions=clf.predict(x_test_log)\n",
    "cm = metrics.confusion_matrix(y_test_log, predictions)"
   ]
  },
  {
   "cell_type": "code",
   "execution_count": null,
   "metadata": {
    "colab": {
     "base_uri": "https://localhost:8080/",
     "height": 520
    },
    "executionInfo": {
     "elapsed": 749,
     "status": "ok",
     "timestamp": 1645895689675,
     "user": {
      "displayName": "Sai Krishna",
      "photoUrl": "https://lh3.googleusercontent.com/a-/AOh14GivFmCGXlNp-q96gH550stXEydDnw2l5i_Xk5Q4Fl4=s64",
      "userId": "11044711928915092420"
     },
     "user_tz": -330
    },
    "id": "hfD2-1NL5Ohz",
    "outputId": "ee33e144-780e-444a-9f3b-31449590ea29"
   },
   "outputs": [
    {
     "data": {
      "image/png": "[encoded data removed]",
      "text/plain": [
       "<Figure size 648x648 with 2 Axes>"
      ]
     },
     "metadata": {
      "needs_background": "light"
     },
     "output_type": "display_data"
    }
   ],
   "source": [
    "score = clf.score(x_test_log, y_test_log)\n",
    "\n",
    "plt.figure(figsize=(9,9))\n",
    "sns.heatmap(cm, annot=True, fmt=\".3f\", linewidths=.5, square = True, cmap = 'Blues_r');\n",
    "plt.ylabel('Actual label');\n",
    "plt.xlabel('Predicted label');\n",
    "all_sample_title = 'Accuracy Score: for logistic regression {0}'.format(score)\n",
    "plt.title(all_sample_title, size = 15);"
   ]
  },
  {
   "cell_type": "code",
   "execution_count": null,
   "metadata": {
    "id": "dkUAJ3snFc8z"
   },
   "outputs": [],
   "source": []
  },
  {
   "cell_type": "code",
   "execution_count": null,
   "metadata": {
    "id": "fn70NnPqF08n"
   },
   "outputs": [],
   "source": [
    "\n"
   ]
  },
  {
   "cell_type": "code",
   "execution_count": null,
   "metadata": {
    "id": "8HqAeqDMFS9s"
   },
   "outputs": [],
   "source": []
  },
  {
   "cell_type": "code",
   "execution_count": null,
   "metadata": {
    "id": "71VSBYqgDrZw"
   },
   "outputs": [],
   "source": []
  },
  {
   "cell_type": "code",
   "execution_count": null,
   "metadata": {
    "colab": {
     "base_uri": "https://localhost:8080/",
     "height": 136
    },
    "executionInfo": {
     "elapsed": 2291,
     "status": "ok",
     "timestamp": 1645895691959,
     "user": {
      "displayName": "Sai Krishna",
      "photoUrl": "https://lh3.googleusercontent.com/a-/AOh14GivFmCGXlNp-q96gH550stXEydDnw2l5i_Xk5Q4Fl4=s64",
      "userId": "11044711928915092420"
     },
     "user_tz": -330
    },
    "id": "5j1lLZtLwln3",
    "outputId": "50158acf-a335-4933-ad74-1b718530b7f2"
   },
   "outputs": [
    {
     "data": {
      "image/png": "[encoded data removed]",
      "text/plain": [
       "<Figure size 432x288 with 1 Axes>"
      ]
     },
     "metadata": {
      "needs_background": "light"
     },
     "output_type": "display_data"
    }
   ],
   "source": [
    "dtree = DecisionTreeClassifier()\n",
    "dtree = dtree.fit(x_train_tree, y_train_tree)\n",
    "data = tree.export_graphviz(dtree, out_file=None, feature_names=features)\n",
    "graph = pydotplus.graph_from_dot_data(data)\n",
    "graph.write_png('mydecisiontree.png')\n",
    "\n",
    "img=pltimg.imread('mydecisiontree.png')\n",
    "imgplot = plt.imshow(img)\n",
    "plt.show()"
   ]
  },
  {
   "cell_type": "code",
   "execution_count": null,
   "metadata": {
    "id": "YOkuLSXZ8wjm"
   },
   "outputs": [],
   "source": [
    "predictions_tree=dtree.predict(x_test_tree)"
   ]
  },
  {
   "cell_type": "code",
   "execution_count": null,
   "metadata": {
    "colab": {
     "base_uri": "https://localhost:8080/"
    },
    "executionInfo": {
     "elapsed": 10,
     "status": "ok",
     "timestamp": 1645895692708,
     "user": {
      "displayName": "Sai Krishna",
      "photoUrl": "https://lh3.googleusercontent.com/a-/AOh14GivFmCGXlNp-q96gH550stXEydDnw2l5i_Xk5Q4Fl4=s64",
      "userId": "11044711928915092420"
     },
     "user_tz": -330
    },
    "id": "I4KQYt7qDzqP",
    "outputId": "458586ef-ba94-4bdd-d21c-20a4217ab30d"
   },
   "outputs": [
    {
     "name": "stdout",
     "output_type": "stream",
     "text": [
      "decision tree algorithm=>\n",
      " [[151  38]\n",
      " [ 30 181]]\n"
     ]
    }
   ],
   "source": [
    "cm = metrics.confusion_matrix(y_test_tree, predictions_tree)\n",
    "print(\"decision tree algorithm=>\\n\", cm)"
   ]
  },
  {
   "cell_type": "code",
   "execution_count": null,
   "metadata": {
    "colab": {
     "base_uri": "https://localhost:8080/",
     "height": 521
    },
    "executionInfo": {
     "elapsed": 10,
     "status": "ok",
     "timestamp": 1645895692709,
     "user": {
      "displayName": "Sai Krishna",
      "photoUrl": "https://lh3.googleusercontent.com/a-/AOh14GivFmCGXlNp-q96gH550stXEydDnw2l5i_Xk5Q4Fl4=s64",
      "userId": "11044711928915092420"
     },
     "user_tz": -330
    },
    "id": "Fw5iacb9D3jA",
    "outputId": "56b45d6f-e04e-4b81-f918-f4dfb95f7eec"
   },
   "outputs": [
    {
     "data": {
      "image/png": "[encoded data removed]",
      "text/plain": [
       "<Figure size 648x648 with 2 Axes>"
      ]
     },
     "metadata": {
      "needs_background": "light"
     },
     "output_type": "display_data"
    }
   ],
   "source": [
    "\n",
    "score = dtree.score(x_test_tree, y_test_tree)\n",
    "plt.figure(figsize=(9,9))\n",
    "sns.heatmap(cm, annot=True, fmt=\".3f\", linewidths=.5, square = True, cmap = 'Blues_r');\n",
    "plt.ylabel('Actual label');\n",
    "plt.xlabel('Predicted label');\n",
    "all_sample_title = 'Accuracy Score: for decision tree {0}'.format(score)\n",
    "plt.title(all_sample_title, size = 15);"
   ]
  },
  {
   "cell_type": "code",
   "execution_count": null,
   "metadata": {
    "id": "tk2dBVYXD6vQ"
   },
   "outputs": [],
   "source": []
  },
  {
   "cell_type": "code",
   "execution_count": null,
   "metadata": {
    "id": "pdM_lU5C-62y"
   },
   "outputs": [],
   "source": []
  },
  {
   "cell_type": "code",
   "execution_count": null,
   "metadata": {
    "id": "0PP0wN8m-65o"
   },
   "outputs": [],
   "source": [
    "classifier_rf = RandomForestClassifier(random_state=42, n_jobs=-1, max_depth=5,\n",
    "                                       n_estimators=100, oob_score=True)"
   ]
  },
  {
   "cell_type": "code",
   "execution_count": null,
   "metadata": {
    "colab": {
     "base_uri": "https://localhost:8080/"
    },
    "executionInfo": {
     "elapsed": 10,
     "status": "ok",
     "timestamp": 1645895692711,
     "user": {
      "displayName": "Sai Krishna",
      "photoUrl": "https://lh3.googleusercontent.com/a-/AOh14GivFmCGXlNp-q96gH550stXEydDnw2l5i_Xk5Q4Fl4=s64",
      "userId": "11044711928915092420"
     },
     "user_tz": -330
    },
    "id": "SGPMNytP-67w",
    "outputId": "ee4bf695-2609-4ad8-8818-879981b6b44e"
   },
   "outputs": [
    {
     "name": "stderr",
     "output_type": "stream",
     "text": [
      "/usr/local/lib/python3.7/dist-packages/ipykernel_launcher.py:1: DataConversionWarning: A column-vector y was passed when a 1d array was expected. Please change the shape of y to (n_samples,), for example using ravel().\n",
      "  \"\"\"Entry point for launching an IPython kernel.\n"
     ]
    },
    {
     "data": {
      "text/plain": [
       "RandomForestClassifier(max_depth=5, n_jobs=-1, oob_score=True, random_state=42)"
      ]
     },
     "execution_count": 114,
     "metadata": {},
     "output_type": "execute_result"
    }
   ],
   "source": [
    "classifier_rf.fit(x_train_forest, y_train_forest)"
   ]
  },
  {
   "cell_type": "code",
   "execution_count": null,
   "metadata": {
    "colab": {
     "base_uri": "https://localhost:8080/"
    },
    "executionInfo": {
     "elapsed": 8,
     "status": "ok",
     "timestamp": 1645895692711,
     "user": {
      "displayName": "Sai Krishna",
      "photoUrl": "https://lh3.googleusercontent.com/a-/AOh14GivFmCGXlNp-q96gH550stXEydDnw2l5i_Xk5Q4Fl4=s64",
      "userId": "11044711928915092420"
     },
     "user_tz": -330
    },
    "id": "Jyj8IwS2-6-B",
    "outputId": "eb1184e1-7bfb-4415-f1af-d97704af3b25"
   },
   "outputs": [
    {
     "name": "stdout",
     "output_type": "stream",
     "text": [
      "random forest algorithm=>\n",
      " [[179  20]\n",
      " [ 31 170]]\n"
     ]
    }
   ],
   "source": [
    "predictions_forest=classifier_rf.predict(x_test_forest)\n",
    "cm = metrics.confusion_matrix(y_test_forest, predictions_forest)\n",
    "print(\"random forest algorithm=>\\n\", cm)"
   ]
  },
  {
   "cell_type": "code",
   "execution_count": null,
   "metadata": {
    "colab": {
     "base_uri": "https://localhost:8080/",
     "height": 526
    },
    "executionInfo": {
     "elapsed": 431,
     "status": "ok",
     "timestamp": 1645895693135,
     "user": {
      "displayName": "Sai Krishna",
      "photoUrl": "https://lh3.googleusercontent.com/a-/AOh14GivFmCGXlNp-q96gH550stXEydDnw2l5i_Xk5Q4Fl4=s64",
      "userId": "11044711928915092420"
     },
     "user_tz": -330
    },
    "id": "eL9w85GX-7An",
    "outputId": "2e3f39e2-5200-4369-e0c7-f453e0c6f400"
   },
   "outputs": [
    {
     "data": {
      "image/png": "[encoded data removed]",
      "text/plain": [
       "<Figure size 648x648 with 2 Axes>"
      ]
     },
     "metadata": {
      "needs_background": "light"
     },
     "output_type": "display_data"
    }
   ],
   "source": [
    "\n",
    "score = classifier_rf.score(x_test_forest, y_test_forest)\n",
    "plt.figure(figsize=(9,9))\n",
    "sns.heatmap(cm, annot=True, fmt=\".3f\", linewidths=.5, square = True, cmap = 'Blues_r');\n",
    "plt.ylabel('Actual label');\n",
    "plt.xlabel('Predicted label');\n",
    "all_sample_title = 'Accuracy Score: for random forest {0}'.format(score)\n",
    "plt.title(all_sample_title, size = 15);"
   ]
  },
  {
   "cell_type": "code",
   "execution_count": null,
   "metadata": {
    "id": "HlOILCSD-7C3"
   },
   "outputs": [],
   "source": []
  },
  {
   "cell_type": "code",
   "execution_count": null,
   "metadata": {
    "id": "jNSdzk8E-7Fj"
   },
   "outputs": [],
   "source": []
  },
  {
   "cell_type": "code",
   "execution_count": null,
   "metadata": {
    "id": "aE-tFSo5-7IL"
   },
   "outputs": [],
   "source": []
  },
  {
   "cell_type": "code",
   "execution_count": null,
   "metadata": {
    "id": "TcM5xV2y-7Le"
   },
   "outputs": [],
   "source": []
  }
 ],
 "metadata": {
  "colab": {
   "collapsed_sections": [],
   "name": "Copy of handoff mini.ipynb",
   "provenance": [
    {
     "file_id": "1g682QO37JzHdxnyZX-CCdOXaBMNikGoU",
     "timestamp": 1658300674940
    }
   ]
  },
  "kernelspec": {
   "display_name": "Python 3 (ipykernel)",
   "language": "python",
   "name": "python3"
  },
  "language_info": {
   "codemirror_mode": {
    "name": "ipython",
    "version": 3
   },
   "file_extension": ".py",
   "mimetype": "text/x-python",
   "name": "python",
   "nbconvert_exporter": "python",
   "pygments_lexer": "ipython3",
   "version": "3.9.12"
  }
 },
 "nbformat": 4,
 "nbformat_minor": 1
}
